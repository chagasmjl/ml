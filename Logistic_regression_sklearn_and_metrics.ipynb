{
 "cells": [
  {
   "cell_type": "code",
   "execution_count": 32,
   "metadata": {},
   "outputs": [
    {
     "name": "stdout",
     "output_type": "stream",
     "text": [
      "(150, 4) (150,) ['setosa' 'versicolor' 'virginica']\n",
      "X train, X test (90, 4) (60, 4)\n",
      "Y train, Y test (90,) (60,)\n"
     ]
    }
   ],
   "source": [
    "import matplotlib.pyplot as plt\n",
    "import statsmodels.api as sm\n",
    "from sklearn.linear_model import LogisticRegression\n",
    "from sklearn import datasets, neighbors, svm, metrics\n",
    "from sklearn.model_selection import train_test_split\n",
    "import itertools\n",
    "import numpy as np\n",
    "from sklearn.metrics import confusion_matrix\n",
    "\n",
    "#loading the dataset and getting the features and training data\n",
    "dataset = datasets.load_iris()\n",
    "X = dataset.data / dataset.data.max()\n",
    "y = dataset.target\n",
    "labels = dataset.target_names\n",
    "\n",
    "#print the atual data's shape\n",
    "print(X.shape, y.shape, labels)\n",
    "\n",
    "#spliting the data in train and test set\n",
    "X_train, X_test, y_train, y_test = train_test_split(X, y, random_state=0,test_size=0.4)\n",
    "print(\"X train, X test\", X_train.shape, X_test.shape)\n",
    "print(\"Y train, Y test\", y_train.shape, y_test.shape)\n",
    "\n",
    "def plot_confusion_matrix(cm, classes,\n",
    "                          normalize=False,\n",
    "                          title='Confusion matrix',\n",
    "                          cmap=plt.cm.Blues):\n",
    "    \"\"\"\n",
    "    This function prints and plots the confusion matrix.\n",
    "    Normalization can be applied by setting `normalize=True`.\n",
    "    \"\"\"\n",
    "    if normalize:\n",
    "        cm = cm.astype('float') / cm.sum(axis=1)[:, np.newaxis]\n",
    "        print(\"Normalized confusion matrix\")\n",
    "    else:\n",
    "        print('Confusion matrix, without normalization')\n",
    "\n",
    "    print(cm)\n",
    "\n",
    "    plt.imshow(cm, interpolation='nearest', cmap=cmap)\n",
    "    plt.title(title)\n",
    "    plt.colorbar()\n",
    "    tick_marks = np.arange(len(classes))\n",
    "    plt.xticks(tick_marks, classes, rotation=45)\n",
    "    plt.yticks(tick_marks, classes)\n",
    "\n",
    "    fmt = '.2f' if normalize else 'd'\n",
    "    thresh = cm.max() / 2.\n",
    "    for i, j in itertools.product(range(cm.shape[0]), range(cm.shape[1])):\n",
    "        plt.text(j, i, format(cm[i, j], fmt),\n",
    "                 horizontalalignment=\"center\",\n",
    "                 color=\"white\" if cm[i, j] > thresh else \"black\")\n",
    "\n",
    "    plt.ylabel('True label')\n",
    "    plt.xlabel('Predicted label')\n",
    "    plt.tight_layout()\n"
   ]
  },
  {
   "cell_type": "code",
   "execution_count": 38,
   "metadata": {},
   "outputs": [
    {
     "name": "stdout",
     "output_type": "stream",
     "text": [
      "\n",
      "--------- LOGISTIC REGRESSION -------------\n",
      "\n",
      "{'C': 10, 'class_weight': None, 'dual': False, 'fit_intercept': True, 'intercept_scaling': 1, 'max_iter': 100, 'multi_class': 'multinomial', 'n_jobs': 1, 'penalty': 'l2', 'random_state': None, 'solver': 'lbfgs', 'tol': 0.0001, 'verbose': 0, 'warm_start': False}\n",
      "Score: 0.9555555555555556\n",
      "Precision/Recall:\n",
      "             precision    recall  f1-score   support\n",
      "\n",
      "     setosa       1.00      1.00      1.00        16\n",
      " versicolor       0.88      1.00      0.94        23\n",
      "  virginica       1.00      0.86      0.92        21\n",
      "\n",
      "avg / total       0.96      0.95      0.95        60\n",
      "\n",
      "Confusion matrix:\n",
      "[[16  0  0]\n",
      " [ 0 23  0]\n",
      " [ 0  3 18]]\n"
     ]
    }
   ],
   "source": [
    "print(\"\\n--------- LOGISTIC REGRESSION -------------\\n\")\n",
    "lr = LogisticRegression(solver='lbfgs',multi_class='multinomial', C=10).fit(X_train, y_train)\n",
    "print(lr.get_params())\n",
    "y_pred = lr.predict(X_test)\n",
    "print(\"Score:\",lr.score(X_train, y_train))\n",
    "\n",
    "cm = metrics.confusion_matrix(y_test, y_pred)\n",
    "print(\"Precision/Recall:\\n%s\" % metrics.classification_report(y_test, y_pred, target_names=labels))\n",
    "print(\"Confusion matrix:\\n%s\" % cm)\n",
    "\n"
   ]
  },
  {
   "cell_type": "code",
   "execution_count": 39,
   "metadata": {},
   "outputs": [
    {
     "name": "stdout",
     "output_type": "stream",
     "text": [
      "Confusion matrix, without normalization\n",
      "[[16  0  0]\n",
      " [ 0 23  0]\n",
      " [ 0  3 18]]\n"
     ]
    },
    {
     "data": {
      "image/png": "[encoded data removed]",
      "text/plain": [
       "<matplotlib.figure.Figure at 0x298d9321f60>"
      ]
     },
     "metadata": {},
     "output_type": "display_data"
    }
   ],
   "source": [
    "plot_confusion_matrix(cm, classes=labels, normalize=False, title='confusion matrix' )\n"
   ]
  },
  {
   "cell_type": "code",
   "execution_count": 40,
   "metadata": {},
   "outputs": [
    {
     "name": "stdout",
     "output_type": "stream",
     "text": [
      "Normalized confusion matrix\n",
      "[[1.         0.         0.        ]\n",
      " [0.         1.         0.        ]\n",
      " [0.         0.14285714 0.85714286]]\n"
     ]
    },
    {
     "data": {
      "image/png": "[encoded data removed]",
      "text/plain": [
       "<matplotlib.figure.Figure at 0x298d93c6cc0>"
      ]
     },
     "metadata": {},
     "output_type": "display_data"
    }
   ],
   "source": [
    "plot_confusion_matrix(cm, classes=labels, normalize=True, title='confusion matrix' )\n",
    "#--- SVM -----------\n",
    "#clf = svm.SVC(gamma='auto')\n",
    "#print(clf.fit(X_digits,y_digits)\n",
    "\n",
    "# ----- Statsmodels ----------\n",
    "#X = sm.add_constant(X_digits)\n",
    "#model = sm.OLS(y_digits, X).fit()\n",
    "#print(model.summary())\n"
   ]
  }
 ],
 "metadata": {
  "kernelspec": {
   "display_name": "Python 3",
   "language": "python",
   "name": "python3"
  },
  "language_info": {
   "codemirror_mode": {
    "name": "ipython",
    "version": 3
   },
   "file_extension": ".py",
   "mimetype": "text/x-python",
   "name": "python",
   "nbconvert_exporter": "python",
   "pygments_lexer": "ipython3",
   "version": "3.6.4"
  }
 },
 "nbformat": 4,
 "nbformat_minor": 2
}
